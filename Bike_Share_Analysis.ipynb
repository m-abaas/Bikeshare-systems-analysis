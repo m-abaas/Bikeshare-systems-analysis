{
 "cells": [
  {
   "cell_type": "markdown",
   "metadata": {},
   "source": [
    "# 2016 US Bike Share Activity Snapshot\n",
    "\n",
    "## Table of Contents\n",
    "- [Introduction](#intro)\n",
    "- [Posing Questions](#pose_questions)\n",
    "- [Data Collection and Wrangling](#wrangling)\n",
    "  - [Condensing the Trip Data](#condensing)\n",
    "- [Exploratory Data Analysis](#eda)\n",
    "  - [Statistics](#statistics)\n",
    "  - [Visualizations](#visualizations)\n",
    "- [More Analysis](#eda_continued)\n",
    "- [Conclusions](#conclusions)\n",
    "- [References](#References)\n",
    "\n",
    "\n",
    "<a id='intro'></a>\n",
    "## Introduction\n",
    "\n",
    "Over the past decade, bicycle-sharing systems have been growing in number and popularity in cities across the world. Bicycle-sharing systems allow users to rent bicycles for short trips, typically 30 minutes or less. Thanks to the rise in information technologies, it is easy for a user of the system to access a dock within the system to unlock or return bicycles. These technologies also provide a wealth of data that can be used to explore how these bike-sharing systems are used.\n",
    "\n",
    "In this project, I will perform an exploratory analysis on data provided by [Motivate](https://www.motivateco.com/), a bike-share system provider for many major cities in the United States. I will compare the system usage between three large cities: New York City, Chicago, and Washington, DC. I will also see if there are any differences within each system for those users that are registered, regular users and those users that are short-term, casual users."
   ]
  },
  {
   "cell_type": "markdown",
   "metadata": {},
   "source": [
    "<a id='pose_questions'></a>\n",
    "## Posing Questions\n",
    "\n",
    "Before looking at the bike sharing data, reader should start by asking questions he/she might want to understand about the bike share data.\n",
    "\n",
    "For *the service provider* these questions might be interesting :\n",
    "- Which docks on average serve the maximum and the minimum number of users?\n",
    "- Which docks require the most maintenance?\n",
    "- Are there any docks that run out of bikes? does this happen on certain days or hours?\n",
    "\n",
    "For the service user these questions might be interesting :\n",
    "- Docks-related questions: How many docks are there in the city and where they are? What is the average distance between one dock and another? Which stations are most popular? \n"
   ]
  },
  {
   "cell_type": "markdown",
   "metadata": {},
   "source": [
    "<a id='wrangling'></a>\n",
    "## Data Collection and Wrangling\n",
    "\n",
    "Now it's time to collect and explore our data. In this project, we will focus on the record of individual trips taken in 2016 from our selected cities: New York City, Chicago, and Washington, DC. Each of these cities has a page where we can freely download the trip data.:\n",
    "\n",
    "- New York City (Citi Bike): [Link](https://www.citibikenyc.com/system-data)\n",
    "- Chicago (Divvy): [Link](https://www.divvybikes.com/system-data)\n",
    "- Washington, DC (Capital Bikeshare): [Link](https://www.capitalbikeshare.com/system-data)\n",
    "\n",
    "If you visit these pages, you will notice that each city has a different way of delivering its data. Chicago updates with new data twice a year, Washington DC is quarterly, and New York City is monthly. The data has already been collected in the `data` folder of the project files. While the original data for 2016 is spread among multiple files for each city, the files in the `data` folder collect all of the trip data for the year into one file per city. Some data wrangling of inconsistencies in timestamp format within each city has already been performed. In addition, a random 2% sample of the original data is taken to make the exploration more manageable. "
   ]
  },
  {
   "cell_type": "code",
   "execution_count": 1,
   "metadata": {},
   "outputs": [],
   "source": [
    "## import all necessary packages and functions.\n",
    "import csv                    # read and write csv files\n",
    "from datetime import datetime # operations to parse dates\n",
    "from pprint import pprint     # used to print data structures like dictionaries in\n",
    "                              # a nicer way than the base print function."
   ]
  },
  {
   "cell_type": "code",
   "execution_count": 2,
   "metadata": {},
   "outputs": [
    {
     "name": "stdout",
     "output_type": "stream",
     "text": [
      "\n",
      "City: NYC\n",
      "OrderedDict([('tripduration', '839'),\n",
      "             ('starttime', '1/1/2016 00:09:55'),\n",
      "             ('stoptime', '1/1/2016 00:23:54'),\n",
      "             ('start station id', '532'),\n",
      "             ('start station name', 'S 5 Pl & S 4 St'),\n",
      "             ('start station latitude', '40.710451'),\n",
      "             ('start station longitude', '-73.960876'),\n",
      "             ('end station id', '401'),\n",
      "             ('end station name', 'Allen St & Rivington St'),\n",
      "             ('end station latitude', '40.72019576'),\n",
      "             ('end station longitude', '-73.98997825'),\n",
      "             ('bikeid', '17109'),\n",
      "             ('usertype', 'Customer'),\n",
      "             ('birth year', ''),\n",
      "             ('gender', '0')])\n",
      "\n",
      "City: Chicago\n",
      "OrderedDict([('trip_id', '9080545'),\n",
      "             ('starttime', '3/31/2016 23:30'),\n",
      "             ('stoptime', '3/31/2016 23:46'),\n",
      "             ('bikeid', '2295'),\n",
      "             ('tripduration', '926'),\n",
      "             ('from_station_id', '156'),\n",
      "             ('from_station_name', 'Clark St & Wellington Ave'),\n",
      "             ('to_station_id', '166'),\n",
      "             ('to_station_name', 'Ashland Ave & Wrightwood Ave'),\n",
      "             ('usertype', 'Subscriber'),\n",
      "             ('gender', 'Male'),\n",
      "             ('birthyear', '1990')])\n",
      "\n",
      "City: Washington\n",
      "OrderedDict([('Duration (ms)', '427387'),\n",
      "             ('Start date', '3/31/2016 22:57'),\n",
      "             ('End date', '3/31/2016 23:04'),\n",
      "             ('Start station number', '31602'),\n",
      "             ('Start station', 'Park Rd & Holmead Pl NW'),\n",
      "             ('End station number', '31207'),\n",
      "             ('End station', 'Georgia Ave and Fairmont St NW'),\n",
      "             ('Bike number', 'W20842'),\n",
      "             ('Member Type', 'Registered')])\n"
     ]
    }
   ],
   "source": [
    "def read_first_trip(DictReader):\n",
    "    \"\"\"\n",
    "    This function only returns the first trip from\n",
    "    the data file as an orderdict.\n",
    "    \"\"\"\n",
    "    return DictReader.__next__()   # this is done through the next method \n",
    "def print_first_point(filename):\n",
    "    \"\"\"\n",
    "    This function prints and returns the first data point (second row) from\n",
    "    a csv file that includes a header row.\n",
    "    \"\"\"\n",
    "    # print city name for reference\n",
    "    city = filename.split('-')[0].split('/')[-1]  # this is to git only the city name (NYC, Chicago, Washington DC)\n",
    "    print('\\nCity: {}'.format(city))              # printing a string that contains the cleaned city name \n",
    "    \n",
    "    with open(filename, 'r') as f_in:\n",
    "        ## TODO: Use the csv library to set up a DictReader object. ##\n",
    "        ## see https://docs.python.org/3/library/csv.html           ##\n",
    "        trip_reader = csv.DictReader(f_in)        # creating a DictReader object.       \n",
    "        \n",
    "        ## TODO: Use a function on the DictReader object to read the     ##\n",
    "        ## first trip from the data file and store it in a variable.     ##\n",
    "        ## see https://docs.python.org/3/library/csv.html#reader-objects ##\n",
    "        first_trip = read_first_trip(trip_reader) \n",
    "        \n",
    "        ## TODO: Use the pprint library to print the first trip. ##\n",
    "        ## see https://docs.python.org/3/library/pprint.html     ##\n",
    "        pprint(first_trip)                       # pprint is used to help printing a dictionary in a nicely formatted way\n",
    "     \n",
    "    # output city name and first trip for later testing\n",
    "    return (city, first_trip)\n",
    "\n",
    "# list of files for each city\n",
    "data_files = ['./data/NYC-CitiBike-2016.csv',   # a list that contains the data of the three cities \n",
    "              './data/Chicago-Divvy-2016.csv',\n",
    "              './data/Washington-CapitalBikeshare-2016.csv',]\n",
    "\n",
    "# print the first trip from each file, store in dictionary\n",
    "example_trips = {}                   # empty dictionary to save the city as a key and the data as the values \n",
    "for data_file in data_files:\n",
    "    city, first_trip = print_first_point(data_file)\n",
    "    example_trips[city] = first_trip"
   ]
  },
  {
   "cell_type": "markdown",
   "metadata": {},
   "source": [
    "Now we have the printout of each city name (which has been parsed from the data file name) that the first trip has been parsed in the form of a dictionary. When you set up a `DictReader` object, the first row of the data file is normally interpreted as column names. Every other row in the data file will use those column names as keys, as a dictionary is generated for each row.\n",
    "\n",
    "This will be useful since we can refer to quantities by an easily-understandable label instead of just a numeric index. For example, if we have a trip stored in the variable `row`, then we would rather get the trip duration from `row['duration']` instead of `row[0]`.\n",
    "\n",
    "<a id='condensing'></a>\n",
    "### Condensing the Trip Data\n",
    "\n",
    "It should also be observable from the above printout that each city provides different information. Even where the information is the same, the column names and formats are sometimes different. To make things as simple as possible when we get to the actual exploration, we should trim and clean the data. Cleaning the data makes sure that the data formats across the cities are consistent, while trimming focuses only on the parts of the data we are most interested in to make the exploration easier to work with.\n",
    "\n",
    "I will generate new data files with five values of interest for each trip: trip duration, starting month, starting hour, day of the week, and user type. Each of these may require additional wrangling depending on the city:\n",
    "\n",
    "- **Duration**: This has been given to us in seconds (New York, Chicago) or milliseconds (Washington). A more natural unit of analysis will be if all the trip durations are given in terms of minutes.\n",
    "- **Month**, **Hour**, **Day of Week**: Ridership volume is likely to change based on the season, time of day, and whether it is a weekday or weekend. Use the start time of the trip to obtain these values. The New York City data includes the seconds in their timestamps, while Washington and Chicago do not. The [`datetime`](https://docs.python.org/3/library/datetime.html) package will be very useful here to make the needed conversions.\n",
    "- **User Type**: It is possible that users who are subscribed to a bike-share system will have different patterns of use compared to users who only have temporary passes. Washington divides its users into two types: 'Registered' for users with annual, monthly, and other longer-term subscriptions, and 'Casual', for users with 24-hour, 3-day, and other short-term passes. The New York and Chicago data uses 'Subscriber' and 'Customer' for these groups, respectively. For consistency, I will convert the Washington labels to match the other two.\n"
   ]
  },
  {
   "cell_type": "code",
   "execution_count": 3,
   "metadata": {},
   "outputs": [],
   "source": [
    "def duration_in_mins(datum, city):\n",
    "    \"\"\"\n",
    "    Takes as input a dictionary containing info about a single trip (datum) and\n",
    "    its origin city (city) and returns the trip duration in units of minutes.\n",
    "    \n",
    "    Remember that Washington is in terms of milliseconds while Chicago and NYC\n",
    "    are in terms of seconds. \n",
    "    \n",
    "    HINT: The csv module reads in all of the data as strings, including numeric\n",
    "    values. You will need a function to convert the strings into an appropriate\n",
    "    numeric type when making your transformations.\n",
    "    see https://docs.python.org/3/library/functions.html\n",
    "    \"\"\"\n",
    "    \n",
    "    if(city == 'Washington'):                               # duration is measured in ms in Washington data\n",
    "        duration = float(datum['Duration (ms)'])/60000      # dividing by 60000 to convert to minute \n",
    "    else:                                                   # in both Chicago and NYC duration is measured in second\n",
    "        duration = float(datum['tripduration'])/60          # dividing by only a factor of 60\n",
    "        \n",
    "    return duration\n",
    "\n",
    "\n",
    "# Some tests to check that your code works. There should be no output if all of\n",
    "# the assertions pass. The `example_trips` dictionary was obtained from when\n",
    "# you printed the first trip from each of the original data files.\n",
    "tests = {'NYC': 13.9833,\n",
    "         'Chicago': 15.4333,\n",
    "         'Washington': 7.1231}\n",
    "\n",
    "for city in tests:\n",
    "    assert abs(duration_in_mins(example_trips[city], city) - tests[city]) < .001"
   ]
  },
  {
   "cell_type": "code",
   "execution_count": 4,
   "metadata": {},
   "outputs": [],
   "source": [
    "def get_date(trip):\n",
    "    '''\n",
    "    This function takes a string input in the format mm/dd/yyy hh:mm:ss and returns the\n",
    "    month, day, year and the hour in int type.\n",
    "    '''\n",
    "    hour = trip.split(' ')[1].split(':')[0]      # this obtains a string that represents the hour a trip was made in\n",
    "    trip = trip.split(' ')[0].split('/')         # the trip variable represents a list of strings that contain, month, day and \n",
    "    for i in range(len(trip)):                   # year respectively.\n",
    "        trip[i] = int(trip[i])                   # this for loop is to convert the \"date\" list into integers instead of strings\n",
    "    return trip, int(hour)                       # now this function returns \"date\" list alongside with the hour as integers\n",
    "def format_date(date):\n",
    "    '''\n",
    "    This function helps to format the date as required (month(int), hour(int), day of the week (string))\n",
    "    after using strftime function placed in the datetime module that returns the same format but as a single string\n",
    "    '''\n",
    "    date = date.split(\" \")               # splitting the strings into three elements\n",
    "    for i in range(0, len(date) - 1):    # looping over the first two elements (month, hour) and converting them into integers\n",
    "        date[i] = int(date[i])\n",
    "    return date[0], date[1], date[2]     # returning the required data \n",
    "\n",
    "def time_of_trip(datum, city):\n",
    "    \"\"\"\n",
    "    Takes as input a dictionary containing info about a single trip (datum) and\n",
    "    its origin city (city) and returns the month, hour, and day of the week in\n",
    "    which the trip was made.\n",
    "    \n",
    "    Remember that NYC includes seconds, while Washington and Chicago do not.\n",
    "    \n",
    "    HINT: You should use the datetime module to parse the original date\n",
    "    strings into a format that is useful for extracting the desired information.\n",
    "    see https://docs.python.org/3/library/datetime.html#strftime-and-strptime-behavior\n",
    "    \"\"\"\n",
    "    if(city == 'NYC' or city == 'Chicago'):\n",
    "        date, hour = get_date(datum['starttime'])       # the key for starting date for these cities is the same\n",
    "    else:\n",
    "        date, hour = get_date(datum['Start date'])      # the key for starting date for the city of Washington is different\n",
    "    date = datetime(date[-1], date[0] ,date[1], hour).strftime(\"%m %H %A\")   # integers must be passed to it and it returns a \n",
    "    month, hour, day_of_week = format_date(date)                     # single string that contains month, hour and day of week.\n",
    "    \n",
    "    return (month, hour, day_of_week)\n",
    "\n",
    "\n",
    "# Some tests to check that your code works. There should be no output if all of\n",
    "# the assertions pass. The `example_trips` dictionary was obtained from when\n",
    "# you printed the first trip from each of the original data files.\n",
    "tests = {'NYC': (1, 0, 'Friday'),\n",
    "         'Chicago': (3, 23, 'Thursday'),\n",
    "         'Washington': (3, 22, 'Thursday')}\n",
    "\n",
    "for city in tests:\n",
    "    assert time_of_trip(example_trips[city], city) == tests[city]"
   ]
  },
  {
   "cell_type": "code",
   "execution_count": 5,
   "metadata": {},
   "outputs": [],
   "source": [
    "def type_of_user(datum, city):\n",
    "    \"\"\"\n",
    "    Takes as input a dictionary containing info about a single trip (datum) and\n",
    "    its origin city (city) and returns the type of system user that made the\n",
    "    trip.\n",
    "    \n",
    "    Remember that Washington has different category names compared to Chicago\n",
    "    and NYC. \n",
    "    \"\"\"\n",
    "    \n",
    "    if(city == 'Washington'):                         # Washington has a different key! also a differnet category names than\n",
    "        if(datum['Member Type'] == 'Registered'):     # the other two cities.\n",
    "            user_type = 'Subscriber'                  # making the user type consistent with the other two cities\n",
    "        else:\n",
    "            user_type = 'Customer'\n",
    "            \n",
    "    else:\n",
    "        user_type = datum['usertype']\n",
    "    \n",
    "    return user_type                                  # returning the user type \n",
    "\n",
    "\n",
    "# Some tests to check that your code works. There should be no output if all of\n",
    "# the assertions pass. The `example_trips` dictionary was obtained from when\n",
    "# you printed the first trip from each of the original data files.\n",
    "tests = {'NYC': 'Customer',\n",
    "         'Chicago': 'Subscriber',\n",
    "         'Washington': 'Subscriber'}\n",
    "\n",
    "for city in tests:\n",
    "    assert type_of_user(example_trips[city], city) == tests[city]"
   ]
  },
  {
   "cell_type": "markdown",
   "metadata": {},
   "source": [
    "Now, using the helper functions written above I will create a condensed data file for each city consisting only of the data fields indicated above. In the `/examples/` folder, you will see an example datafile from the [Bay Area Bike Share](http://www.bayareabikeshare.com/open-data) before and after conversion."
   ]
  },
  {
   "cell_type": "code",
   "execution_count": 6,
   "metadata": {},
   "outputs": [],
   "source": [
    "def condense_data(in_file, out_file, city):\n",
    "    \"\"\"\n",
    "    This function takes full data from the specified input file\n",
    "    and writes the condensed data to a specified output file. The city\n",
    "    argument determines how the input file will be parsed.\n",
    "    \n",
    "    HINT: See the cell below to see how the arguments are structured!\n",
    "    \"\"\"\n",
    "    \n",
    "    with open(out_file, 'w') as f_out, open(in_file, 'r') as f_in:\n",
    "        # set up csv DictWriter object - writer requires column names for the\n",
    "        # first row as the \"fieldnames\" argument\n",
    "        out_colnames = ['duration', 'month', 'hour', 'day_of_week', 'user_type']    # a list that contains the new keys      \n",
    "        trip_writer = csv.DictWriter(f_out, fieldnames = out_colnames)              # writing the first row (header)\n",
    "        trip_writer.writeheader()\n",
    "        \n",
    "        ## TODO: set up csv DictReader object ##\n",
    "        trip_reader = csv.DictReader(f_in)\n",
    "\n",
    "        # collect data from and process each row\n",
    "        for row in trip_reader:               # looping over each row of the data file for each city\n",
    "            # set up a dictionary to hold the values for the cleaned and trimmed\n",
    "            # data point\n",
    "            new_point = {}\n",
    "            \n",
    "            ## TODO: use the helper functions to get the cleaned data from  ##\n",
    "            ## the original data dictionaries.                              ##\n",
    "            ## Note that the keys for the new_point dictionary should match ##\n",
    "            ## the column names set in the DictWriter object above.         ##\n",
    "            new_point[out_colnames[0]] = duration_in_mins(row, city)        # assigning to every row the appropriate data\n",
    "            new_point[out_colnames[1]], new_point[out_colnames[2]], new_point[out_colnames[3]] = time_of_trip(row, city)\n",
    "            new_point[out_colnames[4]] = type_of_user(row, city)\n",
    "            ## TODO: write the processed information to the output file.     ##\n",
    "            ## see https://docs.python.org/3/library/csv.html#writer-objects ##\n",
    "            trip_writer.writerow(new_point)                                 # writing the row to the new csv file\n",
    "            \n",
    "            \n",
    "            "
   ]
  },
  {
   "cell_type": "code",
   "execution_count": 7,
   "metadata": {},
   "outputs": [
    {
     "name": "stdout",
     "output_type": "stream",
     "text": [
      "\n",
      "City: Washington\n",
      "OrderedDict([('duration', '7.123116666666666'),\n",
      "             ('month', '3'),\n",
      "             ('hour', '22'),\n",
      "             ('day_of_week', 'Thursday'),\n",
      "             ('user_type', 'Subscriber')])\n",
      "\n",
      "City: Chicago\n",
      "OrderedDict([('duration', '15.433333333333334'),\n",
      "             ('month', '3'),\n",
      "             ('hour', '23'),\n",
      "             ('day_of_week', 'Thursday'),\n",
      "             ('user_type', 'Subscriber')])\n",
      "\n",
      "City: NYC\n",
      "OrderedDict([('duration', '13.983333333333333'),\n",
      "             ('month', '1'),\n",
      "             ('hour', '0'),\n",
      "             ('day_of_week', 'Friday'),\n",
      "             ('user_type', 'Customer')])\n"
     ]
    }
   ],
   "source": [
    "# Run this cell to check your work\n",
    "city_info = {'Washington': {'in_file': './data/Washington-CapitalBikeshare-2016.csv',\n",
    "                            'out_file': './data/Washington-2016-Summary.csv'},\n",
    "             'Chicago': {'in_file': './data/Chicago-Divvy-2016.csv',\n",
    "                         'out_file': './data/Chicago-2016-Summary.csv'},\n",
    "             'NYC': {'in_file': './data/NYC-CitiBike-2016.csv',\n",
    "                     'out_file': './data/NYC-2016-Summary.csv'}}\n",
    "\n",
    "for city, filenames in city_info.items():\n",
    "    condense_data(filenames['in_file'], filenames['out_file'], city)\n",
    "    print_first_point(filenames['out_file'])"
   ]
  },
  {
   "cell_type": "markdown",
   "metadata": {},
   "source": [
    "\n",
    "<a id='eda'></a>\n",
    "## Exploratory Data Analysis\n",
    "\n",
    "Now that we have the data collected and wrangled, we're ready to start exploring the data. In this section I will write some code to compute descriptive statistics from the data.\n",
    "\n",
    "<a id='statistics'></a>\n",
    "### Statistics\n",
    "\n",
    "First, let's compute some basic counts. The first cell below contains a function that uses the csv module to iterate through a provided data file, returning the number of trips made by subscribers and customers. The second cell runs this function on the example Bay Area data in the `/examples/` folder. Modify the cells to answer the question below.\n",
    "\n",
    "**Question**: Which city has the highest number of trips? Which city has the highest proportion of trips made by subscribers? Which city has the highest proportion of trips made by short-term customers?\n",
    "\n",
    "**Answer**: The city that has the highest number of trips and the highest propotion of trips made by subscribers is *NYC*. Having a closer look and by refering to [NYC population](https://en.wikipedia.org/wiki/New_York_City), [Chicago population](https://en.wikipedia.org/wiki/Chicago). The populations are nearly found to be 8.5M and 2.7M respectively, so the results obtained makes sense because the results for NYC are around four times greater than for chicago **which is the same population ration**.  \n",
    "The city that has the highest number of propotion of trips made by customers is *Chicago*.\n"
   ]
  },
  {
   "cell_type": "code",
   "execution_count": 8,
   "metadata": {},
   "outputs": [],
   "source": [
    "def number_of_trips(filename, avg_time = False):\n",
    "    \"\"\"\n",
    "    This function reads in a file with trip data and by default returns the number of\n",
    "    trips made by subscribers, the ratio of trips made my subscribers and customers.\n",
    "    If the avg_time was set to True, it returns the number and total duration of \n",
    "    trips made by both subscribers and customers to avoid code repetition later on.\n",
    "    \"\"\"\n",
    "    with open(filename, 'r') as f_in:\n",
    "        # set up csv reader object\n",
    "        reader = csv.DictReader(f_in)\n",
    "        \n",
    "        # initialize count variables\n",
    "        n_subscribers = 0       # number of subscribers \n",
    "        time_subscribers = 0    # total duration subscribers use the service\n",
    "        n_customers = 0         # number of customers\n",
    "        time_customers = 0      # total duration customers use the service\n",
    "        \n",
    "        # tally up ride types\n",
    "        for row in reader:                            # looping over rows in the new csv file\n",
    "            if row['user_type'] == 'Subscriber':      # and counting on the number of subscribers and customers.\n",
    "                n_subscribers += 1      \n",
    "                if(avg_time):\n",
    "                    time_subscribers += float(row['duration'])   # converting the duration from string to float\n",
    "            else:\n",
    "                n_customers += 1\n",
    "                if(avg_time):\n",
    "                    time_customers += float(row['duration'])     # again converting the duration recorded into the float type\n",
    "                    \n",
    "        \n",
    "        # compute total number of rides\n",
    "        n_total = n_subscribers + n_customers                    # total number of rides is the summation of both \n",
    "        \n",
    "        # return tallies as a tuple\n",
    "        if(avg_time):\n",
    "            return(time_subscribers, time_customers, n_subscribers, n_customers)\n",
    "        else:\n",
    "            return(n_total, (n_subscribers/n_total)*100 , (n_customers/n_total)*100)   # ratio is caluclated - in general - as \n",
    "                                                                                       # (part/whole)*100 "
   ]
  },
  {
   "cell_type": "code",
   "execution_count": 9,
   "metadata": {},
   "outputs": [
    {
     "name": "stdout",
     "output_type": "stream",
     "text": [
      "Washington 66326 78.0282242257938 % 21.971775774206193 %\n",
      "Chicago 72131 76.22520136973007 % 23.774798630269924 %\n",
      "NYC 276798 88.83590199351151 % 11.164098006488485 %\n"
     ]
    }
   ],
   "source": [
    "## Modify this and the previous cell to answer Question 4a. Remember to run ##\n",
    "## the function on the cleaned data files you created from Question 3.      ##\n",
    "city_info = {'Washington': {'file_name': './data/Washington-2016-Summary.csv'},\n",
    "             'Chicago': {'file_name': './data/Chicago-2016-Summary.csv'},\n",
    "             'NYC': {'file_name': './data/NYC-2016-Summary.csv'}}\n",
    "for city, filenames in city_info.items():\n",
    "    print(city, number_of_trips(filenames['file_name'])[0], str(number_of_trips(filenames['file_name'])[1]) + ' %', str(number_of_trips(filenames['file_name'])[2]) + ' %')"
   ]
  },
  {
   "cell_type": "markdown",
   "metadata": {},
   "source": [
    "\n",
    "**Question**: Bike-share systems are designed for riders to take short trips. Most of the time, users are allowed to take trips of 30 minutes or less with no additional charges, with overage charges made for trips of longer than that duration. What is the average trip length for each city? What proportion of rides made in each city are longer than 30 minutes?\n",
    "\n",
    "**Answer**:\n",
    "\n",
    "| city| Washington | Chicago | NYC |\n",
    "|---| --- | --- | --- |\n",
    "|average | 19 | 16.56 | 15.8 |\n",
    "| proportion | 10.8 % | 8.34 % | 7.31 % |\n"
   ]
  },
  {
   "cell_type": "code",
   "execution_count": 10,
   "metadata": {
    "scrolled": true
   },
   "outputs": [],
   "source": [
    "## Use this and additional cells to answer Question 4b.                 ##\n",
    "##                                                                      ##\n",
    "## HINT: The csv module reads in all of the data as strings, including  ##\n",
    "## numeric values. You will need a function to convert the strings      ##\n",
    "## into an appropriate numeric type before you aggregate data.          ##\n",
    "## TIP: For the Bay Area example, the average trip length is 14 minutes ##\n",
    "## and 3.5% of trips are longer than 30 minutes.                        ##\n",
    "def trip_duration(filename):\n",
    "    '''\n",
    "    This function takes as an input the whole data, and returns\n",
    "    the average time of the trips made, also the ratio of trips\n",
    "    above 30 mins.\n",
    "    '''\n",
    "    with open(filename, 'r') as f_in:\n",
    "        trip_reader = csv.DictReader(f_in)\n",
    "        n_rides_below = 0      # number of rides below five minutes\n",
    "        n_rides_above = 0      # number of rides above five minutes\n",
    "        total_time = 0         # total time\n",
    "        for row in trip_reader:\n",
    "            total_time += float(row['duration'])   # converting the string duration into float\n",
    "            if(float(row['duration']) >= 30):  \n",
    "                n_rides_above += 1                 # counting on the number of trips above and below 30 mins\n",
    "            else:\n",
    "                n_rides_below += 1\n",
    "        n_rides = n_rides_above + n_rides_below    # total number of rides is the summation of both\n",
    "        time_avg = total_time/n_rides              # average time is in general (total time divided by total number of rides)\n",
    "        above_ratio = (n_rides_above/n_rides)*100  # ratio is caluclated - in general - as (part/whole)*100 \n",
    "    return time_avg, above_ratio                   # returning the average time and the ratio of trips above 5 mins\n"
   ]
  },
  {
   "cell_type": "code",
   "execution_count": 11,
   "metadata": {},
   "outputs": [
    {
     "name": "stdout",
     "output_type": "stream",
     "text": [
      "Washington 18.93287355913721 10.83888671109369 %\n",
      "Chicago 16.563629368787335 8.34731252859381 %\n",
      "NYC 15.81259299802294 7.316888127804392 %\n"
     ]
    }
   ],
   "source": [
    "city_info = {'Washington': {'file_name': './data/Washington-2016-Summary.csv'},\n",
    "             'Chicago': {'file_name': './data/Chicago-2016-Summary.csv'},\n",
    "             'NYC': {'file_name': './data/NYC-2016-Summary.csv'}}\n",
    "for city, filenames in city_info.items():\n",
    "    print(city, trip_duration(filenames['file_name'])[0], str(trip_duration(filenames['file_name'])[1]) + ' %')"
   ]
  },
  {
   "cell_type": "markdown",
   "metadata": {},
   "source": [
    "**Question**: Digging deeper into the question of trip duration based on ridership and choosing one city. Within that city, which type of user takes longer rides on average: Subscribers or Customers?\n",
    "\n",
    "**Answer**: \n",
    "\n",
    "| city| Washington | Chicago | NYC |\n",
    "|---| --- | --- | --- |\n",
    "|subscribers average | 12.52 | 12 | 13.68 |\n",
    "| customers average | 41.67 | 31 | 32.77 |\n",
    "\n",
    "\n",
    "Just to make sure that the results are closely related, I tested all the data not only one city data. Each of the three cities has a customer average time that is three times greater than the subscribers average time! so the data collected for *the Bay Area* has almost twice the level of difference compared to these three cities."
   ]
  },
  {
   "cell_type": "code",
   "execution_count": 12,
   "metadata": {},
   "outputs": [],
   "source": [
    "## Use this and additional cells to answer Question 4c. If you have    ##\n",
    "## not done so yet, consider revising some of your previous code to    ##\n",
    "## make use of functions for reusability.                              ##\n",
    "##                                                                     ##\n",
    "## TIP: For the Bay Area example data, you should find the average     ##\n",
    "## Subscriber trip duration to be 9.5 minutes and the average Customer ##\n",
    "## trip duration to be 54.6 minutes. Do the other cities have this     ##\n",
    "## level of difference? ##\n",
    "def avg_time(filename):\n",
    "    '''\n",
    "    This function calculates the average time for both \n",
    "    subscribers and customers individually with the help of a predefined function (number_of_trips)\n",
    "    '''\n",
    "    time_subscribers, time_customers, n_subscribers, n_customers = number_of_trips(filename, True)  # calling the number of trips\n",
    "    return (time_subscribers/n_subscribers), (time_customers/n_customers)                           # function and setting the \n",
    "                                                                                                    # argument to True.\n"
   ]
  },
  {
   "cell_type": "code",
   "execution_count": 13,
   "metadata": {},
   "outputs": [
    {
     "name": "stdout",
     "output_type": "stream",
     "text": [
      "Washington (12.528120499294745, 41.67803139252976)\n",
      "Chicago (12.067201690250076, 30.979781133982506)\n",
      "NYC (13.680790523907177, 32.77595139473187)\n"
     ]
    }
   ],
   "source": [
    "city_info = {'Washington': {'file_name': './data/Washington-2016-Summary.csv'},\n",
    "             'Chicago': {'file_name': './data/Chicago-2016-Summary.csv'},\n",
    "             'NYC': {'file_name': './data/NYC-2016-Summary.csv'}}\n",
    "for city, filenames in city_info.items():\n",
    "    print(city, avg_time(filenames['file_name']))"
   ]
  },
  {
   "cell_type": "markdown",
   "metadata": {},
   "source": [
    "<a id='visualizations'></a>\n",
    "### Visualizations\n",
    "\n",
    "The last set of values that I computed should have pulled up an interesting result. While the mean trip time for Subscribers is well under 30 minutes, the mean trip time for Customers is actually _above_ 30 minutes! It will be interesting for us to look at how the trip times are distributed. \n",
    "The cell below loads the *Matplotlb* library and generates an example plot tp introduce you to the functionality of the libirary."
   ]
  },
  {
   "cell_type": "code",
   "execution_count": 14,
   "metadata": {},
   "outputs": [
    {
     "data": {
      "image/png": "[encoded data removed]",
      "text/plain": [
       "<matplotlib.figure.Figure at 0x7feae4195e48>"
      ]
     },
     "metadata": {},
     "output_type": "display_data"
    }
   ],
   "source": [
    "# load library\n",
    "import matplotlib.pyplot as plt\n",
    "\n",
    "# this is a 'magic word' that allows for plots to be displayed\n",
    "# inline with the notebook. If you want to know more, see:\n",
    "# http://ipython.readthedocs.io/en/stable/interactive/magics.html\n",
    "%matplotlib inline \n",
    "\n",
    "# example histogram, data taken from bay area sample\n",
    "data = [ 7.65,  8.92,  7.42,  5.50, 16.17,  4.20,  8.98,  9.62, 11.48, 14.33,\n",
    "        19.02, 21.53,  3.90,  7.97,  2.62,  2.67,  3.08, 14.40, 12.90,  7.83,\n",
    "        25.12,  8.30,  4.93, 12.43, 10.60,  6.17, 10.88,  4.78, 15.15,  3.53,\n",
    "         9.43, 13.32, 11.72,  9.85,  5.22, 15.10,  3.95,  3.17,  8.78,  1.88,\n",
    "         4.55, 12.68, 12.38,  9.78,  7.63,  6.45, 17.38, 11.90, 11.52,  8.63,]\n",
    "plt.hist(data)\n",
    "plt.title('Distribution of Trip Durations')\n",
    "plt.xlabel('Duration (m)')\n",
    "plt.show()"
   ]
  },
  {
   "cell_type": "markdown",
   "metadata": {},
   "source": [
    "In the above cell, we collected fifty trip times in a list, and passed this list as the first argument to the `.hist()` function. This function performs the computations and creates plotting objects for generating a histogram, but the plot is actually not rendered until the `.show()` function is executed. The `.title()` and `.xlabel()` functions provide some labeling for plot context.\n"
   ]
  },
  {
   "cell_type": "code",
   "execution_count": 15,
   "metadata": {},
   "outputs": [],
   "source": [
    "## Use this and additional cells to collect all of the trip times as a list ##\n",
    "## and then use pyplot functions to generate a histogram of trip times.     ##\n",
    "def plot_triptime(filename):\n",
    "    '''\n",
    "    This function plots the duration of the trips for a certain \n",
    "    data in histograms.\n",
    "    '''\n",
    "    time_list = []\n",
    "    with open(filename, 'r') as f_in:\n",
    "        trip_reader = csv.DictReader(f_in)   # setting up a DictReader object.\n",
    "        for row in trip_reader:              # looping over rows in the newly created csv file\n",
    "            time_list.append(float(row['duration']))   # appending trip duration in an empty list after converting it into float\n",
    "        plt.hist(time_list)                            # plotting a histogram for the duration list\n",
    "        plt.title('Distribution of Trip Durations')\n",
    "        plt.xlabel('Duration (m)')\n",
    "        plt.show()"
   ]
  },
  {
   "cell_type": "code",
   "execution_count": 16,
   "metadata": {},
   "outputs": [
    {
     "data": {
      "image/png": "[encoded data removed]",
      "text/plain": [
       "<matplotlib.figure.Figure at 0x7feac5801ac8>"
      ]
     },
     "metadata": {},
     "output_type": "display_data"
    }
   ],
   "source": [
    "file_name = './data/NYC-2016-Summary.csv'  \n",
    "plot_triptime(file_name)        # calling the plot function on the NYC data file"
   ]
  },
  {
   "cell_type": "markdown",
   "metadata": {},
   "source": [
    "Now you're probably looking at a plot that's completely unexpected. The plot consists of one extremely tall bar on the left, maybe a very short second bar, and a whole lot of empty space in the center and right. Take a look at the duration values on the x-axis. This suggests that there are some highly infrequent outliers in the data. Instead of reprocessing the data, I will use additional parameters with the `.hist()` function to limit the range of data that is plotted. Documentation for the function can be found [[here]](https://matplotlib.org/devdocs/api/_as_gen/matplotlib.pyplot.hist.html#matplotlib.pyplot.hist).\n",
    "\n",
    "**Question**: Use the parameters of the `.hist()` function to plot the distribution of trip times for the Subscribers in your selected city. Do the same thing for only the Customers. Add limits to the plots so that only trips of duration less than 75 minutes are plotted. As a bonus, set the plots up so that bars are in five-minute wide intervals. For each group, where is the peak of each distribution? How would you describe the shape of each distribution?\n",
    "\n",
    "**Answer**: \n",
    "\n",
    "| Group| Subscribers | Customer |\n",
    "|---| --- | --- |\n",
    "|peak | 5 - 10 | 15 - 25 | \n",
    "\n",
    "For the *subscribers*, the shape has a mean larger than the median since the shape is right skewed. Even if the shape of the *customers* can be nearly considered also as a right skewed shape, if we considered the trips greater than 50 mins as outliers, a strange observation comes in presence! the shape is almost a normal distribution with a mean equal to median.\n",
    "This is proven through the code below.\n",
    "\n"
   ]
  },
  {
   "cell_type": "code",
   "execution_count": 36,
   "metadata": {},
   "outputs": [],
   "source": [
    "## Use this and additional cells to answer Question 5. ##\n",
    "def create_binsize(minimum, maximum, width):\n",
    "    '''\n",
    "    A function to create a certain binsize!\n",
    "    '''\n",
    "    bins = []   # an empty list to store the bin sizes\n",
    "    for i in range(minimum, maximum + 1 , width): # looping starting with minimum and ending at maximum with a step equa to width\n",
    "        bins.append(i)                            # appending in the bins list\n",
    "        if(i + width > maximum and maximum - i > 0):  # handling the case where the next step will exceed maximum, so the last\n",
    "            bins.append(maximum)                      # bin must be of a different size (less than its predecessors)! \n",
    "            \n",
    "    return bins\n",
    "def plot_triptime(filename,lower_range = 0, upper_range = 75, minimum = 0, maximum = 75, width = 5):\n",
    "    '''\n",
    "    This function plots the trips duration in histogram, with some optional defaultly setted \n",
    "    parameters, lower and upper range of the data passed,\n",
    "    minimum, maximum and the width of the histogram bins.\n",
    "    Note that they are all setted to values that satisfies this specific question.\n",
    "    Also it returns two lists that contain the trips duration for both subscribers and customers for later usage.\n",
    "    ''' \n",
    "    sub_time_list = []         # two empty lists to sotre the trip duration for both subscribers \n",
    "    cus_time_list = []         # and customers\n",
    "    with open(filename, 'r') as f_in:  \n",
    "        trip_reader = csv.DictReader(f_in)\n",
    "        for row in trip_reader:                      # looping over the newly created csv file \n",
    "            if(row['user_type'] == 'Subscriber'):    # conditional statement to decide whether a user i subscriber or customer\n",
    "                sub_time_list.append(float(row['duration']))      # converting the duration into float instead of string\n",
    "            else:\n",
    "                cus_time_list.append(float(row['duration']))      # again converting the duration into the float type\n",
    "        # plotting both histograms for subscribers and customers\n",
    "        plt.hist(sub_time_list, range = [lower_range,lower_range], bins = create_binsize(minimum, maximum, width))\n",
    "        plt.hist(cus_time_list, range = [lower_range,upper_range], bins = create_binsize(minimum, maximum, width))\n",
    "\n",
    "        plt.title('Distribution of Trip Durations')\n",
    "        plt.xlabel('Duration (m)')\n",
    "        plt.show()\n",
    "        return sub_time_list, cus_time_list"
   ]
  },
  {
   "cell_type": "code",
   "execution_count": 37,
   "metadata": {},
   "outputs": [
    {
     "data": {
      "image/png": "[encoded data removed]",
      "text/plain": [
       "<matplotlib.figure.Figure at 0x7feac20ebb70>"
      ]
     },
     "metadata": {},
     "output_type": "display_data"
    },
    {
     "name": "stdout",
     "output_type": "stream",
     "text": [
      "(13.680790523907177, 32.77595139473187)\n",
      "9.716666666666667\n",
      "20.63163742484438\n",
      "21.2\n"
     ]
    }
   ],
   "source": [
    "from statistics import median         # to calculate median\n",
    "def mean(numbers):\n",
    "    '''\n",
    "    This function calculates the mean of a given list.\n",
    "    '''\n",
    "    return float(sum(numbers)) / max(len(numbers), 1)    \n",
    "file_name = './data/NYC-2016-Summary.csv'\n",
    "sub_time_list, cus_time_list = plot_triptime(file_name)  # plotting the histograms \n",
    "print(avg_time(file_name))                               # printing averages before cutting the data\n",
    "print(median(sub_time_list))                             # calculate the subscribers trips duration median                 \n",
    "new_cus_time_list = []                                   # a new customers list to store trips duration lowe than 50\n",
    "for i in range(len(cus_time_list)):\n",
    "    if cus_time_list[i] < 50:\n",
    "        new_cus_time_list.append(cus_time_list[i])\n",
    "print(mean(new_cus_time_list))                           # calculate the new mean \n",
    "print(median(cus_time_list))                             # calculate the new median"
   ]
  },
  {
   "cell_type": "markdown",
   "metadata": {
    "collapsed": true
   },
   "source": [
    "<a id='eda_continued'></a>\n",
    "## More Analysis\n",
    "\n",
    "**Question 5**: What is the relation between user type and the day of the week? do subscribers or customers use the service within wake days more than weekends or vice versa? \n",
    "Also, what is the relation between user type and the hour of the day? do subscribers and customers use the service more oftenly during morning hours or night hours?\n",
    "\n",
    "**Answer**: Subscribers appear to use the service within week days more than weekends! \n",
    "Surprisingly, it's the opposite situation in the case of customers!\n",
    "Also subscribers appear to be using the service from 00:00 to 11:59 AM more than from 12:00 to 23:59 PM, which is surprisingly the opposite case for the customers! "
   ]
  },
  {
   "cell_type": "code",
   "execution_count": 38,
   "metadata": {},
   "outputs": [],
   "source": [
    "## Use this and additional cells to continue to explore the dataset. ##\n",
    "## Once you have performed your exploration, document your findings  ##\n",
    "## in the Markdown cell above.                                       ##\n",
    "def users_through_week(filename):\n",
    "    '''\n",
    "    This function calculates the number of subscribers and customers through the week. \n",
    "    Also calculates how many users use the service from 0 - 11:59 AM and from 12 - 23:59 PM \n",
    "    for both subscribers and customers.\n",
    "    '''\n",
    "    sub_users = [0, 0, 0, 0, 0, 0, 0]   # The week starts at monday and ends at sunday\n",
    "    cus_users = [0, 0, 0, 0, 0, 0, 0] \n",
    "    sub_night_users = 0\n",
    "    sub_mor_users = 0\n",
    "    cus_night_users = 0\n",
    "    cus_mor_users = 0\n",
    "    with open(filename, 'r') as f_in:\n",
    "        trip_reader = csv.DictReader(f_in)\n",
    "        for row in trip_reader:        # looping over the newly created csv file \n",
    "                if(row['user_type'] == 'Subscriber'):  # checking whether the use is a subscriber or a customer\n",
    "                    if(int(row['hour']) < 12):         # checkin' on the hour and counting up users after converting \n",
    "                        sub_mor_users += 1             # the value from string into int\n",
    "                    else:\n",
    "                        sub_night_users += 1\n",
    "                else:                                  # if the user is a customer the same procedure \n",
    "                    if(int(row['hour']) < 12):         \n",
    "                        cus_mor_users += 1 \n",
    "                    else:\n",
    "                        cus_night_users += 1\n",
    "                if(row['day_of_week'] == 'Monday'):        # conditional statements for counting on the number of subscribers\n",
    "                    if(row['user_type'] == 'Subscriber'):  # and customers that usethe service in each day of the week.\n",
    "                        sub_users[0] += 1\n",
    "                    else:\n",
    "                        cus_users[0] += 1\n",
    "                elif(row['day_of_week'] == 'Tuesday'):\n",
    "                    if(row['user_type'] == 'Subscriber'):\n",
    "                        sub_users[1] += 1\n",
    "                    else:\n",
    "                        cus_users[1] += 1\n",
    "                elif(row['day_of_week'] == 'Wednesday'):\n",
    "                    if(row['user_type'] == 'Subscriber'):\n",
    "                        sub_users[2] += 1\n",
    "                    else:\n",
    "                        cus_users[2] += 1\n",
    "                elif(row['day_of_week'] == 'Thursday'):\n",
    "                    if(row['user_type'] == 'Subscriber'):\n",
    "                        sub_users[3] += 1\n",
    "                    else:\n",
    "                        cus_users[3] += 1\n",
    "                elif(row['day_of_week'] == 'Friday'):\n",
    "                    if(row['user_type'] == 'Subscriber'):\n",
    "                        sub_users[4] += 1\n",
    "                    else:\n",
    "                        cus_users[4] += 1\n",
    "                elif(row['day_of_week'] == 'Saturday'):\n",
    "                    if(row['user_type'] == 'Subscriber'):\n",
    "                        sub_users[5] += 1\n",
    "                    else:\n",
    "                        cus_users[5] += 1\n",
    "                elif(row['day_of_week'] == 'Sunday'):\n",
    "                    if(row['user_type'] == 'Subscriber'):\n",
    "                        sub_users[6] += 1\n",
    "                    else:\n",
    "                        cus_users[6] += 1\n",
    "    return sub_users, cus_users, sub_night_users, sub_mor_users, cus_night_users, cus_mor_users\n",
    "                "
   ]
  },
  {
   "cell_type": "code",
   "execution_count": 40,
   "metadata": {},
   "outputs": [
    {
     "data": {
      "image/png": "[encoded data removed]",
      "text/plain": [
       "<matplotlib.figure.Figure at 0x7feac2caf208>"
      ]
     },
     "metadata": {},
     "output_type": "display_data"
    },
    {
     "name": "stdout",
     "output_type": "stream",
     "text": [
      "161254 84642 6723 24179\n"
     ]
    }
   ],
   "source": [
    "file_name = './data/NYC-2016-Summary.csv'\n",
    "sub_users, cus_users, sub_night_users, sub_mor_users, cus_night_users, cus_mor_users = users_through_week(file_name)\n",
    "p1 = plt.bar(['1', '2', '3', '4', '5', '6', '7'], sub_users)             # plotting results in a bar plot\n",
    "p2 = plt.bar(['1', '2', '3', '4', '5', '6', '7'], cus_users)             # 1 = monday, 2= thursday and so on .. \n",
    "plt.title('Distribution of number of trips vs weekdays')\n",
    "plt.xlabel('Weekdays')\n",
    "plt.legend((p1[0], p2[0]), ('Subscribers', 'Customers'))                # adding legends to the figure \n",
    "plt.show()\n",
    "print(sub_night_users, sub_mor_users, cus_mor_users, cus_night_users)"
   ]
  },
  {
   "cell_type": "markdown",
   "metadata": {},
   "source": [
    "<a id='conclusions'></a>\n",
    "## Conclusions\n",
    "\n",
    "This is only a sampling of the data analysis process: from generating questions, wrangling the data, and to exploring the data. Normally, at this point in the data analysis process, you might want to draw conclusions about the data by performing a statistical test or fitting the data to a model for making predictions. There are also a lot of potential analyses that could be performed on the data which are not possible with only the data provided. For example, detailed location data has not been investigated. Where are the most commonly used docks? What are the most common routes? As another example, weather has potential to have a large impact on daily ridership. How much is ridership impacted when there is rain or snow? Are subscribers or customers affected more by changes in weather?"
   ]
  },
  {
   "cell_type": "markdown",
   "metadata": {},
   "source": [
    "<a id='conclusions'></a>\n",
    "## References \n",
    "Listed below the references i used within this project:\n",
    "- [An example on how to use *strftime* method](https://www.programiz.com/python-programming/library/strftime)\n",
    "- [How to use the *datetime* module](https://docs.python.org/3/library/datetime.html#datetime.datetime)\n",
    "- [*Tables* in markdown](https://stackoverflow.com/questions/48655801/tables-in-markdown-in-jupyter)\n",
    "- [Calculating *mean* using python in the most effective way](https://stackoverflow.com/questions/7716331/calculating-arithmetic-mean-one-type-of-average-in-python)"
   ]
  }
 ],
 "metadata": {
  "anaconda-cloud": {},
  "kernelspec": {
   "display_name": "Python 3",
   "language": "python",
   "name": "python3"
  },
  "language_info": {
   "codemirror_mode": {
    "name": "ipython",
    "version": 3
   },
   "file_extension": ".py",
   "mimetype": "text/x-python",
   "name": "python",
   "nbconvert_exporter": "python",
   "pygments_lexer": "ipython3",
   "version": "3.7.0"
  }
 },
 "nbformat": 4,
 "nbformat_minor": 1
}
